{
 "cells": [
  {
   "cell_type": "code",
   "execution_count": 1,
   "metadata": {
    "collapsed": true
   },
   "outputs": [],
   "source": [
    "import skimage\n",
    "from skimage import data\n",
    "from skimage import io\n",
    "import numpy as np\n",
    "import pandas as pd\n",
    "\n",
    "import os\n",
    "\n",
    "from skimage.util import invert\n",
    "from skimage.measure import perimeter\n",
    "from skimage.measure import find_contours\n",
    "\n",
    "from skimage.measure._regionprops import (regionprops as regionprops_default,\n",
    "                                          PROPS, perimeter, _parse_docs)\n",
    "import functools\n",
    "regionprops = functools.partial(regionprops_default, coordinates='rc')\n",
    "\n",
    "from skimage import feature\n",
    "\n",
    "from skimage.exposure import is_low_contrast\n"
   ]
  },
  {
   "cell_type": "code",
   "execution_count": 4,
   "metadata": {
    "collapsed": true
   },
   "outputs": [],
   "source": [
    "def mode_color(img):\n",
    "    #read in image\n",
    "    img=io.imread(img)\n",
    "    #flatten image\n",
    "    flat_img=[]\n",
    "    for x in img:\n",
    "        for y in x:\n",
    "            flat_img.append(y)\n",
    "    #convert pixels to strings\n",
    "    flat_img=[str(x) for x in flat_img]\n",
    "    #create dictionary with pixel color counts\n",
    "    counts = {}\n",
    "    for i in flat_img:\n",
    "        if i in counts:\n",
    "            counts[i] += 1\n",
    "        else:\n",
    "            counts[i] = 1\n",
    "    #find maximum value and convert to numpy array\n",
    "    key_max = max(counts.keys(), key=(lambda k: counts[k]))\n",
    "    key_max=key_max.split('[')[1].split(']')[0]\n",
    "    rgb=np.fromstring(key_max, dtype=int, sep=' ')\n",
    "    rgb=[rgb[0],rgb[1],rgb[2]]\n",
    "    return rgb\n",
    "\n",
    "def mean_color(img):\n",
    "    #read in image\n",
    "    img=io.imread(img)\n",
    "    #flatten image\n",
    "    flat_img=[]\n",
    "    for x in img:\n",
    "        for y in x:\n",
    "            flat_img.append(y)\n",
    "    #calculate mean red, green and blue\n",
    "    r = np.array([x[0] for x in flat_img]).mean()\n",
    "    g = np.array([x[1] for x in flat_img]).mean()\n",
    "    b = np.array([x[2] for x in flat_img]).mean()\n",
    "    #combine into one array\n",
    "    rgb=[r,g,b]\n",
    "    return rgb\n",
    "\n",
    "def shannon_entropy(img):\n",
    "    #ready-made method\n",
    "    entropy = skimage.measure.shannon_entropy(io.imread(img), base=2)\n",
    "    return entropy\n",
    "\n",
    "def perimeter_(img):\n",
    "    return perimeter(invert(io.imread(img, as_gray=True)), neighbourhood=8)\n",
    "    \n",
    "def find_contours(img):\n",
    "    img = io.imread(img, as_gray=True)\n",
    "    img = invert(img)\n",
    "    contours = skimage.measure.find_contours(img, 0.8)\n",
    "    return len(contours) / img.size\n",
    "\n",
    "def solidity(img):\n",
    "    return regionprops(io.imread(img).astype(int))[0].solidity\n",
    "\n",
    "# This function takes an image and calculates the shape_index of the image which is an array\n",
    "# It then returns the average of squares of the shape_index array\n",
    "# from skimage import feature will be needed\n",
    "def get_shape_index(img):\n",
    "    img = io.imread(img, as_gray=True)\n",
    "    shape_index = feature.shape_index(img)\n",
    "    shape_index_1D = np.ravel(shape_index)\n",
    "    avg_squares_shape_index = np.average(np.square(shape_index_1D))\n",
    "    return avg_squares_shape_index\n",
    "\n",
    "def low_contrast(img):\n",
    "    img=io.imread(img)\n",
    "    lowcontrast=is_low_contrast(img)\n",
    "    return lowcontrast       return lowcontrast   \n",
    "\n",
    "def getImageContrast(img_file_path):\n",
    "    img = io.imread(img_file_path)\n",
    "    flat_img = []\n",
    "    for x in img:\n",
    "        for y in x:\n",
    "            flat_img.append(y)\n",
    "    lum = []\n",
    "    for rgb in flat_img:\n",
    "        luminance = (0.2126*rgb[0] + 0.7152*rgb[1] + 0.0722*rgb[2])\n",
    "        lum.append(luminance)\n",
    "    lmin = np.min(lum)\n",
    "    lmax = np.max(lum)\n",
    "    return (lmax-lmin)/(lmax + lmin)\n"
   ]
  },
  {
   "cell_type": "code",
   "execution_count": 5,
   "metadata": {},
   "outputs": [
    {
     "name": "stderr",
     "output_type": "stream",
     "text": [
      "/Users/Luke/anaconda/lib/python3.6/site-packages/skimage/feature/corner.py:421: RuntimeWarning: divide by zero encountered in true_divide\n",
      "  return (2.0 / np.pi) * np.arctan((l2 + l1) / (l2 - l1))\n",
      "/Users/Luke/anaconda/lib/python3.6/site-packages/skimage/feature/corner.py:421: RuntimeWarning: invalid value encountered in true_divide\n",
      "  return (2.0 / np.pi) * np.arctan((l2 + l1) / (l2 - l1))\n"
     ]
    }
   ],
   "source": [
    "data_ = {'file_name':[], 'year':[],\n",
    "         'mean_color':[],\\\n",
    "         'mean_color_r':[],\\\n",
    "         'mean_color_g':[], 'mean_color_b':[],\\\n",
    "         'shannon_entropy':[], 'luminance':[],\\\n",
    "         'contour':[],\\\n",
    "         #'solidity':[],\\\n",
    "         #'shape_index':[],\\\n",
    "         'contrast':[]}\n",
    "         #, 'low_contrast':[]}\n",
    "         #, 'perimeter':[]}\n",
    "         #'mode_color':[], 'mode_color_r':[], 'mode_color_g':[],\n",
    "         #'mode_color_b':[]}\n",
    "for dirpath, subdirs, files in os.walk('../images', topdown=False):\n",
    "    for x in files:\n",
    "        if '.jpg' in x:\n",
    "            filename = os.path.join(dirpath, x)\n",
    "            data_['file_name'].append(filename)\n",
    "            data_['year'].append(x.split('_')[0])\n",
    "            rgb = mean_color(filename)    \n",
    "            luminance = (0.2126*rgb[0] + 0.7152*rgb[1] + 0.0722*rgb[2])\n",
    "            data_['mean_color'].append(rgb)\n",
    "            data_['mean_color_r'].append(rgb[0])\n",
    "            data_['mean_color_g'].append(rgb[1])\n",
    "            data_['mean_color_b'].append(rgb[2])\n",
    "            data_['luminance'].append(luminance)            \n",
    "            data_['shannon_entropy'].append(shannon_entropy(filename))\n",
    "            data_['contour'].append(find_contours(filename))\n",
    "            #data_['shape_index'].append(get_shape_index(filename))\n",
    "            #try:\n",
    "            #    data_['solidity'].append(solidity(filename))\n",
    "            #except: \n",
    "            #    data_['solidity'].append('Null')\n",
    "            data_['contrast'].append(getImageContrast(filename))\n",
    "            #data_['low_contrast'].append(low_contrast(filename))\n",
    "            #data_['perimeter'].append(perimeter_(filename))\n",
    "            #rgb = mode_color(filename)\n",
    "            #data_['mode_color'].append(rgb)\n",
    "            #data_['mode_color_r'].append(rgb[0])\n",
    "            #data_['mode_color_g'].append(rgb[1])\n",
    "            #data_['mode_color_b'].append(rgb[2])"
   ]
  },
  {
   "cell_type": "code",
   "execution_count": 6,
   "metadata": {
    "collapsed": true
   },
   "outputs": [],
   "source": [
    "df=pd.DataFrame(data_)"
   ]
  },
  {
   "cell_type": "code",
   "execution_count": 7,
   "metadata": {
    "collapsed": true
   },
   "outputs": [],
   "source": [
    "df.to_csv('../data/data.csv')"
   ]
  },
  {
   "cell_type": "code",
   "execution_count": null,
   "metadata": {
    "collapsed": true
   },
   "outputs": [],
   "source": []
  },
  {
   "cell_type": "code",
   "execution_count": null,
   "metadata": {
    "collapsed": true
   },
   "outputs": [],
   "source": []
  }
 ],
 "metadata": {
  "kernelspec": {
   "display_name": "Python [default]",
   "language": "python",
   "name": "python3"
  },
  "language_info": {
   "codemirror_mode": {
    "name": "ipython",
    "version": 3
   },
   "file_extension": ".py",
   "mimetype": "text/x-python",
   "name": "python",
   "nbconvert_exporter": "python",
   "pygments_lexer": "ipython3",
   "version": "3.6.3"
  }
 },
 "nbformat": 4,
 "nbformat_minor": 2
}
