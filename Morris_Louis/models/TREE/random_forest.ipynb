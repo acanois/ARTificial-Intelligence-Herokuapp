{
 "cells": [
  {
   "cell_type": "markdown",
   "metadata": {},
   "source": [
    "# Random Forest Classifier for Morris Louis Art"
   ]
  },
  {
   "cell_type": "code",
   "execution_count": 47,
   "metadata": {
    "collapsed": true
   },
   "outputs": [],
   "source": [
    "from sklearn.ensemble import RandomForestClassifier\n",
    "from sklearn.model_selection import train_test_split\n",
    "\n",
    "import pandas as pd\n",
    "import numpy as np\n",
    "import sklearn\n",
    "import pickle"
   ]
  },
  {
   "cell_type": "markdown",
   "metadata": {},
   "source": [
    "## Load the Morris Louis metrics"
   ]
  },
  {
   "cell_type": "code",
   "execution_count": 85,
   "metadata": {},
   "outputs": [
    {
     "data": {
      "text/html": [
       "<div>\n",
       "<style>\n",
       "    .dataframe thead tr:only-child th {\n",
       "        text-align: right;\n",
       "    }\n",
       "\n",
       "    .dataframe thead th {\n",
       "        text-align: left;\n",
       "    }\n",
       "\n",
       "    .dataframe tbody tr th {\n",
       "        vertical-align: top;\n",
       "    }\n",
       "</style>\n",
       "<table border=\"1\" class=\"dataframe\">\n",
       "  <thead>\n",
       "    <tr style=\"text-align: right;\">\n",
       "      <th></th>\n",
       "      <th>period</th>\n",
       "      <th>shannon_entropy</th>\n",
       "      <th>mean_color_r</th>\n",
       "      <th>luminance</th>\n",
       "      <th>contrast</th>\n",
       "      <th>contour</th>\n",
       "    </tr>\n",
       "  </thead>\n",
       "  <tbody>\n",
       "    <tr>\n",
       "      <th>1</th>\n",
       "      <td>themes_variations_59_60</td>\n",
       "      <td>7.577162</td>\n",
       "      <td>179.380990</td>\n",
       "      <td>147.490592</td>\n",
       "      <td>0.691603</td>\n",
       "      <td>0.000051</td>\n",
       "    </tr>\n",
       "    <tr>\n",
       "      <th>2</th>\n",
       "      <td>themes_variations_59_60</td>\n",
       "      <td>7.579554</td>\n",
       "      <td>162.274002</td>\n",
       "      <td>126.479898</td>\n",
       "      <td>0.834955</td>\n",
       "      <td>0.000693</td>\n",
       "    </tr>\n",
       "    <tr>\n",
       "      <th>3</th>\n",
       "      <td>themes_variations_59_60</td>\n",
       "      <td>7.387632</td>\n",
       "      <td>103.497806</td>\n",
       "      <td>113.420688</td>\n",
       "      <td>0.848749</td>\n",
       "      <td>0.000054</td>\n",
       "    </tr>\n",
       "    <tr>\n",
       "      <th>4</th>\n",
       "      <td>themes_variations_59_60</td>\n",
       "      <td>7.853511</td>\n",
       "      <td>154.675751</td>\n",
       "      <td>127.536419</td>\n",
       "      <td>0.904835</td>\n",
       "      <td>0.001158</td>\n",
       "    </tr>\n",
       "    <tr>\n",
       "      <th>5</th>\n",
       "      <td>themes_variations_59_60</td>\n",
       "      <td>7.246964</td>\n",
       "      <td>95.234639</td>\n",
       "      <td>84.107295</td>\n",
       "      <td>0.995782</td>\n",
       "      <td>0.005167</td>\n",
       "    </tr>\n",
       "  </tbody>\n",
       "</table>\n",
       "</div>"
      ],
      "text/plain": [
       "                    period  shannon_entropy  mean_color_r   luminance  \\\n",
       "1  themes_variations_59_60         7.577162    179.380990  147.490592   \n",
       "2  themes_variations_59_60         7.579554    162.274002  126.479898   \n",
       "3  themes_variations_59_60         7.387632    103.497806  113.420688   \n",
       "4  themes_variations_59_60         7.853511    154.675751  127.536419   \n",
       "5  themes_variations_59_60         7.246964     95.234639   84.107295   \n",
       "\n",
       "   contrast   contour  \n",
       "1  0.691603  0.000051  \n",
       "2  0.834955  0.000693  \n",
       "3  0.848749  0.000054  \n",
       "4  0.904835  0.001158  \n",
       "5  0.995782  0.005167  "
      ]
     },
     "execution_count": 85,
     "metadata": {},
     "output_type": "execute_result"
    }
   ],
   "source": [
    "data = pd.DataFrame.from_csv('../../data/data.csv')\n",
    "data = data[['period','shannon_entropy','mean_color_r','luminance','contrast', 'contour']]\n",
    "data.head()"
   ]
  },
  {
   "cell_type": "code",
   "execution_count": 86,
   "metadata": {
    "collapsed": true
   },
   "outputs": [],
   "source": [
    "# Split into train and test data\n",
    "features = data[['shannon_entropy','mean_color_r','luminance','contrast', 'contour']]\n",
    "target = data['period'].astype(str)\n",
    "features_train, features_test, target_train, target_test = train_test_split(features, target, random_state=41)"
   ]
  },
  {
   "cell_type": "code",
   "execution_count": 87,
   "metadata": {},
   "outputs": [
    {
     "data": {
      "text/plain": [
       "['shannon_entropy', 'mean_color_r', 'luminance', 'contrast', 'contour']"
      ]
     },
     "execution_count": 87,
     "metadata": {},
     "output_type": "execute_result"
    }
   ],
   "source": [
    "features.columns.tolist()"
   ]
  },
  {
   "cell_type": "markdown",
   "metadata": {},
   "source": [
    "## Create the Random Forest Classifier and train the model"
   ]
  },
  {
   "cell_type": "code",
   "execution_count": 88,
   "metadata": {},
   "outputs": [
    {
     "data": {
      "text/plain": [
       "1.0"
      ]
     },
     "execution_count": 88,
     "metadata": {},
     "output_type": "execute_result"
    }
   ],
   "source": [
    "# Create a random forest classifier\n",
    "rf = RandomForestClassifier(n_estimators=200)\n",
    "rf = rf.fit(features_train, target_train)\n",
    "rf.score(features_train, target_train)"
   ]
  },
  {
   "cell_type": "code",
   "execution_count": 89,
   "metadata": {},
   "outputs": [
    {
     "data": {
      "text/plain": [
       "array([0.19582898, 0.23009118, 0.27016906, 0.13569902, 0.16821177])"
      ]
     },
     "execution_count": 89,
     "metadata": {},
     "output_type": "execute_result"
    }
   ],
   "source": [
    "# Random Forests in sklearn will automatically calculate feature importance\n",
    "importances = rf.feature_importances_\n",
    "importances"
   ]
  },
  {
   "cell_type": "code",
   "execution_count": 90,
   "metadata": {},
   "outputs": [
    {
     "data": {
      "text/plain": [
       "[(0.2701690577099464, 'luminance'),\n",
       " (0.23009117665021467, 'mean_color_r'),\n",
       " (0.19582897950770853, 'shannon_entropy'),\n",
       " (0.16821176689517178, 'contour'),\n",
       " (0.135699019236959, 'contrast')]"
      ]
     },
     "execution_count": 90,
     "metadata": {},
     "output_type": "execute_result"
    }
   ],
   "source": [
    "# We can sort the features by their importance\n",
    "sorted(zip(rf.feature_importances_, features.columns.tolist()), reverse=True)"
   ]
  },
  {
   "cell_type": "markdown",
   "metadata": {},
   "source": [
    "## Predict and save the model"
   ]
  },
  {
   "cell_type": "code",
   "execution_count": 91,
   "metadata": {
    "collapsed": true
   },
   "outputs": [],
   "source": [
    "predicted = rf.predict(features_test)"
   ]
  },
  {
   "cell_type": "code",
   "execution_count": 92,
   "metadata": {},
   "outputs": [
    {
     "data": {
      "text/plain": [
       "0.5515151515151515"
      ]
     },
     "execution_count": 92,
     "metadata": {},
     "output_type": "execute_result"
    }
   ],
   "source": [
    "rf.score(features_test, target_test)"
   ]
  },
  {
   "cell_type": "code",
   "execution_count": 56,
   "metadata": {},
   "outputs": [
    {
     "data": {
      "text/plain": [
       "0.593939393939394"
      ]
     },
     "execution_count": 56,
     "metadata": {},
     "output_type": "execute_result"
    }
   ],
   "source": [
    "import sklearn\n",
    "sklearn.metrics.accuracy_score(target_test,predicted)"
   ]
  },
  {
   "cell_type": "code",
   "execution_count": 57,
   "metadata": {},
   "outputs": [
    {
     "data": {
      "text/html": [
       "<div>\n",
       "<style>\n",
       "    .dataframe thead tr:only-child th {\n",
       "        text-align: right;\n",
       "    }\n",
       "\n",
       "    .dataframe thead th {\n",
       "        text-align: left;\n",
       "    }\n",
       "\n",
       "    .dataframe tbody tr th {\n",
       "        vertical-align: top;\n",
       "    }\n",
       "</style>\n",
       "<table border=\"1\" class=\"dataframe\">\n",
       "  <thead>\n",
       "    <tr style=\"text-align: right;\">\n",
       "      <th></th>\n",
       "      <th>actual</th>\n",
       "      <th>predicted</th>\n",
       "      <th>compare</th>\n",
       "    </tr>\n",
       "  </thead>\n",
       "  <tbody>\n",
       "    <tr>\n",
       "      <th>0</th>\n",
       "      <td>abstract_expressionist_55_57</td>\n",
       "      <td>early_paintings_34_53</td>\n",
       "      <td>False</td>\n",
       "    </tr>\n",
       "    <tr>\n",
       "      <th>1</th>\n",
       "      <td>unfurled_paintings_60_61</td>\n",
       "      <td>stripe_paintings_61_62</td>\n",
       "      <td>False</td>\n",
       "    </tr>\n",
       "    <tr>\n",
       "      <th>2</th>\n",
       "      <td>veil_paintings_54</td>\n",
       "      <td>stripe_paintings_61_62</td>\n",
       "      <td>False</td>\n",
       "    </tr>\n",
       "    <tr>\n",
       "      <th>3</th>\n",
       "      <td>veil_paintings_58_59</td>\n",
       "      <td>themes_variations_59_60</td>\n",
       "      <td>False</td>\n",
       "    </tr>\n",
       "    <tr>\n",
       "      <th>4</th>\n",
       "      <td>unfurled_paintings_60_61</td>\n",
       "      <td>unfurled_paintings_60_61</td>\n",
       "      <td>True</td>\n",
       "    </tr>\n",
       "    <tr>\n",
       "      <th>5</th>\n",
       "      <td>early_paintings_34_53</td>\n",
       "      <td>early_paintings_34_53</td>\n",
       "      <td>True</td>\n",
       "    </tr>\n",
       "    <tr>\n",
       "      <th>6</th>\n",
       "      <td>veil_paintings_54</td>\n",
       "      <td>themes_variations_59_60</td>\n",
       "      <td>False</td>\n",
       "    </tr>\n",
       "    <tr>\n",
       "      <th>7</th>\n",
       "      <td>veil_paintings_58_59</td>\n",
       "      <td>veil_paintings_58_59</td>\n",
       "      <td>True</td>\n",
       "    </tr>\n",
       "    <tr>\n",
       "      <th>8</th>\n",
       "      <td>veil_paintings_58_59</td>\n",
       "      <td>veil_paintings_58_59</td>\n",
       "      <td>True</td>\n",
       "    </tr>\n",
       "    <tr>\n",
       "      <th>9</th>\n",
       "      <td>stripe_paintings_61_62</td>\n",
       "      <td>stripe_paintings_61_62</td>\n",
       "      <td>True</td>\n",
       "    </tr>\n",
       "    <tr>\n",
       "      <th>10</th>\n",
       "      <td>unfurled_paintings_60_61</td>\n",
       "      <td>unfurled_paintings_60_61</td>\n",
       "      <td>True</td>\n",
       "    </tr>\n",
       "    <tr>\n",
       "      <th>11</th>\n",
       "      <td>unfurled_paintings_60_61</td>\n",
       "      <td>unfurled_paintings_60_61</td>\n",
       "      <td>True</td>\n",
       "    </tr>\n",
       "    <tr>\n",
       "      <th>12</th>\n",
       "      <td>stripe_paintings_61_62</td>\n",
       "      <td>stripe_paintings_61_62</td>\n",
       "      <td>True</td>\n",
       "    </tr>\n",
       "    <tr>\n",
       "      <th>13</th>\n",
       "      <td>themes_variations_59_60</td>\n",
       "      <td>stripe_paintings_61_62</td>\n",
       "      <td>False</td>\n",
       "    </tr>\n",
       "    <tr>\n",
       "      <th>14</th>\n",
       "      <td>veil_paintings_58_59</td>\n",
       "      <td>veil_paintings_58_59</td>\n",
       "      <td>True</td>\n",
       "    </tr>\n",
       "    <tr>\n",
       "      <th>15</th>\n",
       "      <td>veil_paintings_58_59</td>\n",
       "      <td>veil_paintings_58_59</td>\n",
       "      <td>True</td>\n",
       "    </tr>\n",
       "    <tr>\n",
       "      <th>16</th>\n",
       "      <td>stripe_paintings_61_62</td>\n",
       "      <td>stripe_paintings_61_62</td>\n",
       "      <td>True</td>\n",
       "    </tr>\n",
       "    <tr>\n",
       "      <th>17</th>\n",
       "      <td>stripe_paintings_61_62</td>\n",
       "      <td>stripe_paintings_61_62</td>\n",
       "      <td>True</td>\n",
       "    </tr>\n",
       "    <tr>\n",
       "      <th>18</th>\n",
       "      <td>veil_paintings_58_59</td>\n",
       "      <td>veil_paintings_58_59</td>\n",
       "      <td>True</td>\n",
       "    </tr>\n",
       "    <tr>\n",
       "      <th>19</th>\n",
       "      <td>early_paintings_34_53</td>\n",
       "      <td>themes_variations_59_60</td>\n",
       "      <td>False</td>\n",
       "    </tr>\n",
       "    <tr>\n",
       "      <th>20</th>\n",
       "      <td>unfurled_paintings_60_61</td>\n",
       "      <td>unfurled_paintings_60_61</td>\n",
       "      <td>True</td>\n",
       "    </tr>\n",
       "    <tr>\n",
       "      <th>21</th>\n",
       "      <td>unfurled_paintings_60_61</td>\n",
       "      <td>stripe_paintings_61_62</td>\n",
       "      <td>False</td>\n",
       "    </tr>\n",
       "    <tr>\n",
       "      <th>22</th>\n",
       "      <td>veil_paintings_58_59</td>\n",
       "      <td>themes_variations_59_60</td>\n",
       "      <td>False</td>\n",
       "    </tr>\n",
       "    <tr>\n",
       "      <th>23</th>\n",
       "      <td>veil_paintings_58_59</td>\n",
       "      <td>themes_variations_59_60</td>\n",
       "      <td>False</td>\n",
       "    </tr>\n",
       "    <tr>\n",
       "      <th>24</th>\n",
       "      <td>stripe_paintings_61_62</td>\n",
       "      <td>stripe_paintings_61_62</td>\n",
       "      <td>True</td>\n",
       "    </tr>\n",
       "    <tr>\n",
       "      <th>25</th>\n",
       "      <td>unfurled_paintings_60_61</td>\n",
       "      <td>unfurled_paintings_60_61</td>\n",
       "      <td>True</td>\n",
       "    </tr>\n",
       "    <tr>\n",
       "      <th>26</th>\n",
       "      <td>stripe_paintings_61_62</td>\n",
       "      <td>stripe_paintings_61_62</td>\n",
       "      <td>True</td>\n",
       "    </tr>\n",
       "    <tr>\n",
       "      <th>27</th>\n",
       "      <td>themes_variations_59_60</td>\n",
       "      <td>stripe_paintings_61_62</td>\n",
       "      <td>False</td>\n",
       "    </tr>\n",
       "    <tr>\n",
       "      <th>28</th>\n",
       "      <td>veil_paintings_58_59</td>\n",
       "      <td>veil_paintings_58_59</td>\n",
       "      <td>True</td>\n",
       "    </tr>\n",
       "    <tr>\n",
       "      <th>29</th>\n",
       "      <td>themes_variations_59_60</td>\n",
       "      <td>themes_variations_59_60</td>\n",
       "      <td>True</td>\n",
       "    </tr>\n",
       "    <tr>\n",
       "      <th>...</th>\n",
       "      <td>...</td>\n",
       "      <td>...</td>\n",
       "      <td>...</td>\n",
       "    </tr>\n",
       "    <tr>\n",
       "      <th>135</th>\n",
       "      <td>stripe_paintings_61_62</td>\n",
       "      <td>stripe_paintings_61_62</td>\n",
       "      <td>True</td>\n",
       "    </tr>\n",
       "    <tr>\n",
       "      <th>136</th>\n",
       "      <td>themes_variations_59_60</td>\n",
       "      <td>stripe_paintings_61_62</td>\n",
       "      <td>False</td>\n",
       "    </tr>\n",
       "    <tr>\n",
       "      <th>137</th>\n",
       "      <td>early_paintings_34_53</td>\n",
       "      <td>early_paintings_34_53</td>\n",
       "      <td>True</td>\n",
       "    </tr>\n",
       "    <tr>\n",
       "      <th>138</th>\n",
       "      <td>themes_variations_59_60</td>\n",
       "      <td>veil_paintings_58_59</td>\n",
       "      <td>False</td>\n",
       "    </tr>\n",
       "    <tr>\n",
       "      <th>139</th>\n",
       "      <td>stripe_paintings_61_62</td>\n",
       "      <td>stripe_paintings_61_62</td>\n",
       "      <td>True</td>\n",
       "    </tr>\n",
       "    <tr>\n",
       "      <th>140</th>\n",
       "      <td>veil_paintings_54</td>\n",
       "      <td>stripe_paintings_61_62</td>\n",
       "      <td>False</td>\n",
       "    </tr>\n",
       "    <tr>\n",
       "      <th>141</th>\n",
       "      <td>stripe_paintings_61_62</td>\n",
       "      <td>themes_variations_59_60</td>\n",
       "      <td>False</td>\n",
       "    </tr>\n",
       "    <tr>\n",
       "      <th>142</th>\n",
       "      <td>themes_variations_59_60</td>\n",
       "      <td>stripe_paintings_61_62</td>\n",
       "      <td>False</td>\n",
       "    </tr>\n",
       "    <tr>\n",
       "      <th>143</th>\n",
       "      <td>early_paintings_34_53</td>\n",
       "      <td>early_paintings_34_53</td>\n",
       "      <td>True</td>\n",
       "    </tr>\n",
       "    <tr>\n",
       "      <th>144</th>\n",
       "      <td>stripe_paintings_61_62</td>\n",
       "      <td>stripe_paintings_61_62</td>\n",
       "      <td>True</td>\n",
       "    </tr>\n",
       "    <tr>\n",
       "      <th>145</th>\n",
       "      <td>stripe_paintings_61_62</td>\n",
       "      <td>stripe_paintings_61_62</td>\n",
       "      <td>True</td>\n",
       "    </tr>\n",
       "    <tr>\n",
       "      <th>146</th>\n",
       "      <td>early_paintings_34_53</td>\n",
       "      <td>veil_paintings_58_59</td>\n",
       "      <td>False</td>\n",
       "    </tr>\n",
       "    <tr>\n",
       "      <th>147</th>\n",
       "      <td>themes_variations_59_60</td>\n",
       "      <td>veil_paintings_58_59</td>\n",
       "      <td>False</td>\n",
       "    </tr>\n",
       "    <tr>\n",
       "      <th>148</th>\n",
       "      <td>veil_paintings_58_59</td>\n",
       "      <td>stripe_paintings_61_62</td>\n",
       "      <td>False</td>\n",
       "    </tr>\n",
       "    <tr>\n",
       "      <th>149</th>\n",
       "      <td>unfurled_paintings_60_61</td>\n",
       "      <td>veil_paintings_58_59</td>\n",
       "      <td>False</td>\n",
       "    </tr>\n",
       "    <tr>\n",
       "      <th>150</th>\n",
       "      <td>abstract_expressionist_55_57</td>\n",
       "      <td>themes_variations_59_60</td>\n",
       "      <td>False</td>\n",
       "    </tr>\n",
       "    <tr>\n",
       "      <th>151</th>\n",
       "      <td>stripe_paintings_61_62</td>\n",
       "      <td>stripe_paintings_61_62</td>\n",
       "      <td>True</td>\n",
       "    </tr>\n",
       "    <tr>\n",
       "      <th>152</th>\n",
       "      <td>themes_variations_59_60</td>\n",
       "      <td>themes_variations_59_60</td>\n",
       "      <td>True</td>\n",
       "    </tr>\n",
       "    <tr>\n",
       "      <th>153</th>\n",
       "      <td>themes_variations_59_60</td>\n",
       "      <td>veil_paintings_58_59</td>\n",
       "      <td>False</td>\n",
       "    </tr>\n",
       "    <tr>\n",
       "      <th>154</th>\n",
       "      <td>early_paintings_34_53</td>\n",
       "      <td>themes_variations_59_60</td>\n",
       "      <td>False</td>\n",
       "    </tr>\n",
       "    <tr>\n",
       "      <th>155</th>\n",
       "      <td>themes_variations_59_60</td>\n",
       "      <td>veil_paintings_58_59</td>\n",
       "      <td>False</td>\n",
       "    </tr>\n",
       "    <tr>\n",
       "      <th>156</th>\n",
       "      <td>stripe_paintings_61_62</td>\n",
       "      <td>unfurled_paintings_60_61</td>\n",
       "      <td>False</td>\n",
       "    </tr>\n",
       "    <tr>\n",
       "      <th>157</th>\n",
       "      <td>early_paintings_34_53</td>\n",
       "      <td>early_paintings_34_53</td>\n",
       "      <td>True</td>\n",
       "    </tr>\n",
       "    <tr>\n",
       "      <th>158</th>\n",
       "      <td>stripe_paintings_61_62</td>\n",
       "      <td>stripe_paintings_61_62</td>\n",
       "      <td>True</td>\n",
       "    </tr>\n",
       "    <tr>\n",
       "      <th>159</th>\n",
       "      <td>stripe_paintings_61_62</td>\n",
       "      <td>stripe_paintings_61_62</td>\n",
       "      <td>True</td>\n",
       "    </tr>\n",
       "    <tr>\n",
       "      <th>160</th>\n",
       "      <td>stripe_paintings_61_62</td>\n",
       "      <td>stripe_paintings_61_62</td>\n",
       "      <td>True</td>\n",
       "    </tr>\n",
       "    <tr>\n",
       "      <th>161</th>\n",
       "      <td>stripe_paintings_61_62</td>\n",
       "      <td>stripe_paintings_61_62</td>\n",
       "      <td>True</td>\n",
       "    </tr>\n",
       "    <tr>\n",
       "      <th>162</th>\n",
       "      <td>veil_paintings_58_59</td>\n",
       "      <td>veil_paintings_58_59</td>\n",
       "      <td>True</td>\n",
       "    </tr>\n",
       "    <tr>\n",
       "      <th>163</th>\n",
       "      <td>stripe_paintings_61_62</td>\n",
       "      <td>stripe_paintings_61_62</td>\n",
       "      <td>True</td>\n",
       "    </tr>\n",
       "    <tr>\n",
       "      <th>164</th>\n",
       "      <td>veil_paintings_58_59</td>\n",
       "      <td>veil_paintings_58_59</td>\n",
       "      <td>True</td>\n",
       "    </tr>\n",
       "  </tbody>\n",
       "</table>\n",
       "<p>165 rows × 3 columns</p>\n",
       "</div>"
      ],
      "text/plain": [
       "                           actual                 predicted  compare\n",
       "0    abstract_expressionist_55_57     early_paintings_34_53    False\n",
       "1        unfurled_paintings_60_61    stripe_paintings_61_62    False\n",
       "2               veil_paintings_54    stripe_paintings_61_62    False\n",
       "3            veil_paintings_58_59   themes_variations_59_60    False\n",
       "4        unfurled_paintings_60_61  unfurled_paintings_60_61     True\n",
       "5           early_paintings_34_53     early_paintings_34_53     True\n",
       "6               veil_paintings_54   themes_variations_59_60    False\n",
       "7            veil_paintings_58_59      veil_paintings_58_59     True\n",
       "8            veil_paintings_58_59      veil_paintings_58_59     True\n",
       "9          stripe_paintings_61_62    stripe_paintings_61_62     True\n",
       "10       unfurled_paintings_60_61  unfurled_paintings_60_61     True\n",
       "11       unfurled_paintings_60_61  unfurled_paintings_60_61     True\n",
       "12         stripe_paintings_61_62    stripe_paintings_61_62     True\n",
       "13        themes_variations_59_60    stripe_paintings_61_62    False\n",
       "14           veil_paintings_58_59      veil_paintings_58_59     True\n",
       "15           veil_paintings_58_59      veil_paintings_58_59     True\n",
       "16         stripe_paintings_61_62    stripe_paintings_61_62     True\n",
       "17         stripe_paintings_61_62    stripe_paintings_61_62     True\n",
       "18           veil_paintings_58_59      veil_paintings_58_59     True\n",
       "19          early_paintings_34_53   themes_variations_59_60    False\n",
       "20       unfurled_paintings_60_61  unfurled_paintings_60_61     True\n",
       "21       unfurled_paintings_60_61    stripe_paintings_61_62    False\n",
       "22           veil_paintings_58_59   themes_variations_59_60    False\n",
       "23           veil_paintings_58_59   themes_variations_59_60    False\n",
       "24         stripe_paintings_61_62    stripe_paintings_61_62     True\n",
       "25       unfurled_paintings_60_61  unfurled_paintings_60_61     True\n",
       "26         stripe_paintings_61_62    stripe_paintings_61_62     True\n",
       "27        themes_variations_59_60    stripe_paintings_61_62    False\n",
       "28           veil_paintings_58_59      veil_paintings_58_59     True\n",
       "29        themes_variations_59_60   themes_variations_59_60     True\n",
       "..                            ...                       ...      ...\n",
       "135        stripe_paintings_61_62    stripe_paintings_61_62     True\n",
       "136       themes_variations_59_60    stripe_paintings_61_62    False\n",
       "137         early_paintings_34_53     early_paintings_34_53     True\n",
       "138       themes_variations_59_60      veil_paintings_58_59    False\n",
       "139        stripe_paintings_61_62    stripe_paintings_61_62     True\n",
       "140             veil_paintings_54    stripe_paintings_61_62    False\n",
       "141        stripe_paintings_61_62   themes_variations_59_60    False\n",
       "142       themes_variations_59_60    stripe_paintings_61_62    False\n",
       "143         early_paintings_34_53     early_paintings_34_53     True\n",
       "144        stripe_paintings_61_62    stripe_paintings_61_62     True\n",
       "145        stripe_paintings_61_62    stripe_paintings_61_62     True\n",
       "146         early_paintings_34_53      veil_paintings_58_59    False\n",
       "147       themes_variations_59_60      veil_paintings_58_59    False\n",
       "148          veil_paintings_58_59    stripe_paintings_61_62    False\n",
       "149      unfurled_paintings_60_61      veil_paintings_58_59    False\n",
       "150  abstract_expressionist_55_57   themes_variations_59_60    False\n",
       "151        stripe_paintings_61_62    stripe_paintings_61_62     True\n",
       "152       themes_variations_59_60   themes_variations_59_60     True\n",
       "153       themes_variations_59_60      veil_paintings_58_59    False\n",
       "154         early_paintings_34_53   themes_variations_59_60    False\n",
       "155       themes_variations_59_60      veil_paintings_58_59    False\n",
       "156        stripe_paintings_61_62  unfurled_paintings_60_61    False\n",
       "157         early_paintings_34_53     early_paintings_34_53     True\n",
       "158        stripe_paintings_61_62    stripe_paintings_61_62     True\n",
       "159        stripe_paintings_61_62    stripe_paintings_61_62     True\n",
       "160        stripe_paintings_61_62    stripe_paintings_61_62     True\n",
       "161        stripe_paintings_61_62    stripe_paintings_61_62     True\n",
       "162          veil_paintings_58_59      veil_paintings_58_59     True\n",
       "163        stripe_paintings_61_62    stripe_paintings_61_62     True\n",
       "164          veil_paintings_58_59      veil_paintings_58_59     True\n",
       "\n",
       "[165 rows x 3 columns]"
      ]
     },
     "execution_count": 57,
     "metadata": {},
     "output_type": "execute_result"
    }
   ],
   "source": [
    "actuals = target_test.tolist()\n",
    "data_test = pd.DataFrame(data = {\"actual\": actuals, \"predicted\": predicted})\n",
    "data_test[\"compare\"] = data_test[\"actual\"] == data_test[\"predicted\"]\n",
    "data_test"
   ]
  },
  {
   "cell_type": "code",
   "execution_count": 58,
   "metadata": {
    "collapsed": true
   },
   "outputs": [],
   "source": [
    "# Save the model to a file\n",
    "filename = \"MorrisRandomForestModel.pkl\"\n",
    "pickle.dump(rf, open(filename, \"wb\"))"
   ]
  },
  {
   "cell_type": "code",
   "execution_count": 93,
   "metadata": {
    "collapsed": true
   },
   "outputs": [],
   "source": [
    "# load the model from disk\n",
    "loaded_rf = pickle.load(open(filename, \"rb\"))"
   ]
  },
  {
   "cell_type": "code",
   "execution_count": 94,
   "metadata": {},
   "outputs": [
    {
     "data": {
      "text/plain": [
       "0.593939393939394"
      ]
     },
     "execution_count": 94,
     "metadata": {},
     "output_type": "execute_result"
    }
   ],
   "source": [
    "loaded_rf.score(features_test, target_test)"
   ]
  },
  {
   "cell_type": "code",
   "execution_count": null,
   "metadata": {
    "collapsed": true
   },
   "outputs": [],
   "source": []
  }
 ],
 "metadata": {
  "kernelspec": {
   "display_name": "Python [default]",
   "language": "python",
   "name": "python3"
  },
  "language_info": {
   "codemirror_mode": {
    "name": "ipython",
    "version": 3
   },
   "file_extension": ".py",
   "mimetype": "text/x-python",
   "name": "python",
   "nbconvert_exporter": "python",
   "pygments_lexer": "ipython3",
   "version": "3.6.4"
  }
 },
 "nbformat": 4,
 "nbformat_minor": 2
}
