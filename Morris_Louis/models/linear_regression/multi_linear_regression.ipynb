{
 "cells": [
  {
   "cell_type": "markdown",
   "metadata": {},
   "source": [
    "# Multiple Linear Regression on Rothko art data"
   ]
  },
  {
   "cell_type": "code",
   "execution_count": 1,
   "metadata": {
    "collapsed": true
   },
   "outputs": [],
   "source": [
    "%matplotlib inline\n",
    "import matplotlib.pyplot as plt\n",
    "import numpy as np\n",
    "import pandas as pd\n",
    "from sklearn.linear_model import LinearRegression\n",
    "from sklearn.model_selection import train_test_split"
   ]
  },
  {
   "cell_type": "code",
   "execution_count": 7,
   "metadata": {},
   "outputs": [
    {
     "data": {
      "text/html": [
       "<div>\n",
       "<style>\n",
       "    .dataframe thead tr:only-child th {\n",
       "        text-align: right;\n",
       "    }\n",
       "\n",
       "    .dataframe thead th {\n",
       "        text-align: left;\n",
       "    }\n",
       "\n",
       "    .dataframe tbody tr th {\n",
       "        vertical-align: top;\n",
       "    }\n",
       "</style>\n",
       "<table border=\"1\" class=\"dataframe\">\n",
       "  <thead>\n",
       "    <tr style=\"text-align: right;\">\n",
       "      <th></th>\n",
       "      <th>period</th>\n",
       "      <th>shannon_entropy</th>\n",
       "      <th>mean_color_r</th>\n",
       "      <th>luminance</th>\n",
       "      <th>contrast</th>\n",
       "      <th>contour</th>\n",
       "    </tr>\n",
       "  </thead>\n",
       "  <tbody>\n",
       "    <tr>\n",
       "      <th>0</th>\n",
       "      <td>themes_variations_59_60</td>\n",
       "      <td>7.683989</td>\n",
       "      <td>111.635539</td>\n",
       "      <td>104.752119</td>\n",
       "      <td>0.913992</td>\n",
       "      <td>0.001029</td>\n",
       "    </tr>\n",
       "    <tr>\n",
       "      <th>1</th>\n",
       "      <td>themes_variations_59_60</td>\n",
       "      <td>7.577162</td>\n",
       "      <td>179.380990</td>\n",
       "      <td>147.490592</td>\n",
       "      <td>0.691603</td>\n",
       "      <td>0.000051</td>\n",
       "    </tr>\n",
       "    <tr>\n",
       "      <th>2</th>\n",
       "      <td>themes_variations_59_60</td>\n",
       "      <td>7.579554</td>\n",
       "      <td>162.274002</td>\n",
       "      <td>126.479898</td>\n",
       "      <td>0.834955</td>\n",
       "      <td>0.000693</td>\n",
       "    </tr>\n",
       "    <tr>\n",
       "      <th>3</th>\n",
       "      <td>themes_variations_59_60</td>\n",
       "      <td>7.387632</td>\n",
       "      <td>103.497807</td>\n",
       "      <td>113.420688</td>\n",
       "      <td>0.848749</td>\n",
       "      <td>0.000054</td>\n",
       "    </tr>\n",
       "    <tr>\n",
       "      <th>4</th>\n",
       "      <td>themes_variations_59_60</td>\n",
       "      <td>7.853511</td>\n",
       "      <td>154.675751</td>\n",
       "      <td>127.536419</td>\n",
       "      <td>0.904835</td>\n",
       "      <td>0.001158</td>\n",
       "    </tr>\n",
       "  </tbody>\n",
       "</table>\n",
       "</div>"
      ],
      "text/plain": [
       "                    period  shannon_entropy  mean_color_r   luminance  \\\n",
       "0  themes_variations_59_60         7.683989    111.635539  104.752119   \n",
       "1  themes_variations_59_60         7.577162    179.380990  147.490592   \n",
       "2  themes_variations_59_60         7.579554    162.274002  126.479898   \n",
       "3  themes_variations_59_60         7.387632    103.497807  113.420688   \n",
       "4  themes_variations_59_60         7.853511    154.675751  127.536419   \n",
       "\n",
       "   contrast   contour  \n",
       "0  0.913992  0.001029  \n",
       "1  0.691603  0.000051  \n",
       "2  0.834955  0.000693  \n",
       "3  0.848749  0.000054  \n",
       "4  0.904835  0.001158  "
      ]
     },
     "execution_count": 7,
     "metadata": {},
     "output_type": "execute_result"
    }
   ],
   "source": [
    "# load the art data\n",
    "data = pd.DataFrame.from_csv('../../data/data.csv')\n",
    "data = data[['period','shannon_entropy','mean_color_r','luminance','contrast', 'contour']]\n",
    "data.head()"
   ]
  },
  {
   "cell_type": "code",
   "execution_count": 8,
   "metadata": {},
   "outputs": [
    {
     "data": {
      "text/plain": [
       "array(['themes_variations_59_60', 'stripe_paintings_61_62',\n",
       "       'abstract_expressionist_55_57', 'veil_paintings_58_59',\n",
       "       'unfurled_paintings_60_61', 'early_paintings_34_53',\n",
       "       'veil_paintings_54'], dtype=object)"
      ]
     },
     "execution_count": 8,
     "metadata": {},
     "output_type": "execute_result"
    }
   ],
   "source": [
    "data[\"period\"].unique()"
   ]
  },
  {
   "cell_type": "code",
   "execution_count": 11,
   "metadata": {
    "collapsed": true
   },
   "outputs": [],
   "source": [
    "from sklearn.preprocessing import LabelEncoder\n",
    "\n",
    "# Step 1: Label-encode data set\n",
    "label_encoder = LabelEncoder()\n",
    "label_encoder.fit(data[\"period\"])\n",
    "encoded_y = label_encoder.transform(data[\"period\"])"
   ]
  },
  {
   "cell_type": "code",
   "execution_count": 13,
   "metadata": {
    "collapsed": true
   },
   "outputs": [],
   "source": [
    "data[\"period_code\"] = encoded_y"
   ]
  },
  {
   "cell_type": "code",
   "execution_count": 14,
   "metadata": {},
   "outputs": [
    {
     "data": {
      "text/html": [
       "<div>\n",
       "<style>\n",
       "    .dataframe thead tr:only-child th {\n",
       "        text-align: right;\n",
       "    }\n",
       "\n",
       "    .dataframe thead th {\n",
       "        text-align: left;\n",
       "    }\n",
       "\n",
       "    .dataframe tbody tr th {\n",
       "        vertical-align: top;\n",
       "    }\n",
       "</style>\n",
       "<table border=\"1\" class=\"dataframe\">\n",
       "  <thead>\n",
       "    <tr style=\"text-align: right;\">\n",
       "      <th></th>\n",
       "      <th>period</th>\n",
       "      <th>shannon_entropy</th>\n",
       "      <th>mean_color_r</th>\n",
       "      <th>luminance</th>\n",
       "      <th>contrast</th>\n",
       "      <th>contour</th>\n",
       "      <th>period_code</th>\n",
       "    </tr>\n",
       "  </thead>\n",
       "  <tbody>\n",
       "    <tr>\n",
       "      <th>0</th>\n",
       "      <td>themes_variations_59_60</td>\n",
       "      <td>7.683989</td>\n",
       "      <td>111.635539</td>\n",
       "      <td>104.752119</td>\n",
       "      <td>0.913992</td>\n",
       "      <td>0.001029</td>\n",
       "      <td>3</td>\n",
       "    </tr>\n",
       "    <tr>\n",
       "      <th>1</th>\n",
       "      <td>themes_variations_59_60</td>\n",
       "      <td>7.577162</td>\n",
       "      <td>179.380990</td>\n",
       "      <td>147.490592</td>\n",
       "      <td>0.691603</td>\n",
       "      <td>0.000051</td>\n",
       "      <td>3</td>\n",
       "    </tr>\n",
       "    <tr>\n",
       "      <th>2</th>\n",
       "      <td>themes_variations_59_60</td>\n",
       "      <td>7.579554</td>\n",
       "      <td>162.274002</td>\n",
       "      <td>126.479898</td>\n",
       "      <td>0.834955</td>\n",
       "      <td>0.000693</td>\n",
       "      <td>3</td>\n",
       "    </tr>\n",
       "    <tr>\n",
       "      <th>3</th>\n",
       "      <td>themes_variations_59_60</td>\n",
       "      <td>7.387632</td>\n",
       "      <td>103.497807</td>\n",
       "      <td>113.420688</td>\n",
       "      <td>0.848749</td>\n",
       "      <td>0.000054</td>\n",
       "      <td>3</td>\n",
       "    </tr>\n",
       "    <tr>\n",
       "      <th>4</th>\n",
       "      <td>themes_variations_59_60</td>\n",
       "      <td>7.853511</td>\n",
       "      <td>154.675751</td>\n",
       "      <td>127.536419</td>\n",
       "      <td>0.904835</td>\n",
       "      <td>0.001158</td>\n",
       "      <td>3</td>\n",
       "    </tr>\n",
       "  </tbody>\n",
       "</table>\n",
       "</div>"
      ],
      "text/plain": [
       "                    period  shannon_entropy  mean_color_r   luminance  \\\n",
       "0  themes_variations_59_60         7.683989    111.635539  104.752119   \n",
       "1  themes_variations_59_60         7.577162    179.380990  147.490592   \n",
       "2  themes_variations_59_60         7.579554    162.274002  126.479898   \n",
       "3  themes_variations_59_60         7.387632    103.497807  113.420688   \n",
       "4  themes_variations_59_60         7.853511    154.675751  127.536419   \n",
       "\n",
       "   contrast   contour  period_code  \n",
       "0  0.913992  0.001029            3  \n",
       "1  0.691603  0.000051            3  \n",
       "2  0.834955  0.000693            3  \n",
       "3  0.848749  0.000054            3  \n",
       "4  0.904835  0.001158            3  "
      ]
     },
     "execution_count": 14,
     "metadata": {},
     "output_type": "execute_result"
    }
   ],
   "source": [
    "data.head()"
   ]
  },
  {
   "cell_type": "code",
   "execution_count": 15,
   "metadata": {},
   "outputs": [
    {
     "name": "stdout",
     "output_type": "stream",
     "text": [
      "<class 'pandas.core.frame.DataFrame'>\n",
      "Int64Index: 663 entries, 0 to 662\n",
      "Data columns (total 7 columns):\n",
      "period             663 non-null object\n",
      "shannon_entropy    663 non-null float64\n",
      "mean_color_r       663 non-null float64\n",
      "luminance          663 non-null float64\n",
      "contrast           663 non-null float64\n",
      "contour            663 non-null float64\n",
      "period_code        663 non-null int64\n",
      "dtypes: float64(5), int64(1), object(1)\n",
      "memory usage: 41.4+ KB\n"
     ]
    }
   ],
   "source": [
    "data.info()\n"
   ]
  },
  {
   "cell_type": "code",
   "execution_count": 16,
   "metadata": {
    "collapsed": true
   },
   "outputs": [],
   "source": [
    "# Split into training and test data\n",
    "features = data[['shannon_entropy','mean_color_r','luminance','contrast', 'contour']]\n",
    "target = data['period_code']\n",
    "#target = target.apply(lambda x: x.split(\",\")[0][1:])\n",
    "features_train, features_test, target_train, target_test = train_test_split(features, target, random_state=41)"
   ]
  },
  {
   "cell_type": "code",
   "execution_count": 17,
   "metadata": {},
   "outputs": [
    {
     "name": "stdout",
     "output_type": "stream",
     "text": [
      "R2 Score: 0.17478369139571437\n"
     ]
    },
    {
     "name": "stderr",
     "output_type": "stream",
     "text": [
      "/Users/rupali/anaconda3/lib/python3.6/site-packages/sklearn/linear_model/base.py:509: RuntimeWarning: internal gelsd driver lwork query error, required iwork dimension not returned. This is likely the result of LAPACK bug 0038, fixed in LAPACK 3.2.2 (released July 21, 2010). Falling back to 'gelss' driver.\n",
      "  linalg.lstsq(X, y)\n"
     ]
    }
   ],
   "source": [
    "# Create a model\n",
    "model = LinearRegression()\n",
    "\n",
    "# Fitting our model with all of our features in X\n",
    "model.fit(features_train, target_train)\n",
    "\n",
    "score = model.score(features_train, target_train)\n",
    "print(f\"R2 Score: {score}\")"
   ]
  },
  {
   "cell_type": "code",
   "execution_count": 20,
   "metadata": {},
   "outputs": [
    {
     "data": {
      "text/plain": [
       "<matplotlib.collections.LineCollection at 0x115bcd940>"
      ]
     },
     "execution_count": 20,
     "metadata": {},
     "output_type": "execute_result"
    },
    {
     "data": {
      "image/png": "[encoded data removed]",
      "text/plain": [
       "<Figure size 432x288 with 1 Axes>"
      ]
     },
     "metadata": {},
     "output_type": "display_data"
    }
   ],
   "source": [
    "# predict\n",
    "predictions = model.predict(features_test)\n",
    "# Plot Residuals\n",
    "predictions = predictions.round().astype(int)\n",
    "predictions\n",
    "target_test = target_test.astype(int)\n",
    "plt.scatter(predictions, predictions - target_test)\n",
    "plt.hlines(y=0, xmin=predictions.min(), xmax=predictions.max())"
   ]
  },
  {
   "cell_type": "code",
   "execution_count": 21,
   "metadata": {},
   "outputs": [
    {
     "name": "stdout",
     "output_type": "stream",
     "text": [
      "R2 Score: 0.046103046371512524\n"
     ]
    }
   ],
   "source": [
    "score = model.score(features_test, target_test)\n",
    "print(f\"R2 Score: {score}\")"
   ]
  },
  {
   "cell_type": "code",
   "execution_count": 22,
   "metadata": {},
   "outputs": [
    {
     "data": {
      "text/plain": [
       "0.18072289156626506"
      ]
     },
     "execution_count": 22,
     "metadata": {},
     "output_type": "execute_result"
    }
   ],
   "source": [
    "import sklearn\n",
    "sklearn.metrics.accuracy_score(target_test,predictions)"
   ]
  },
  {
   "cell_type": "code",
   "execution_count": 23,
   "metadata": {},
   "outputs": [
    {
     "name": "stdout",
     "output_type": "stream",
     "text": [
      "TRUE => PREDICTED\n",
      "1=>3\n",
      "0=>3\n",
      "3=>2\n",
      "6=>4\n",
      "2=>2\n",
      "1=>4\n",
      "2=>3\n",
      "4=>3\n",
      "4=>2\n",
      "3=>3\n",
      "4=>3\n",
      "2=>2\n",
      "4=>3\n",
      "0=>3\n",
      "6=>2\n",
      "2=>2\n",
      "2=>2\n",
      "2=>3\n",
      "2=>3\n",
      "4=>3\n",
      "4=>2\n",
      "4=>2\n",
      "5=>3\n",
      "2=>3\n",
      "4=>4\n",
      "6=>4\n",
      "1=>4\n",
      "4=>2\n",
      "4=>3\n",
      "3=>3\n",
      "4=>3\n",
      "4=>3\n",
      "0=>2\n",
      "2=>2\n",
      "2=>2\n",
      "2=>3\n",
      "2=>3\n",
      "4=>4\n",
      "4=>2\n",
      "4=>3\n",
      "2=>2\n",
      "3=>3\n",
      "4=>3\n",
      "4=>3\n",
      "2=>4\n",
      "4=>5\n",
      "2=>3\n",
      "4=>3\n",
      "2=>4\n",
      "6=>4\n",
      "6=>4\n",
      "4=>5\n",
      "2=>2\n",
      "6=>4\n",
      "6=>4\n",
      "2=>3\n",
      "2=>4\n",
      "2=>3\n",
      "2=>2\n",
      "6=>3\n",
      "1=>5\n",
      "1=>5\n",
      "4=>2\n",
      "2=>3\n",
      "4=>3\n",
      "6=>5\n",
      "4=>3\n",
      "5=>3\n",
      "2=>2\n",
      "2=>3\n",
      "1=>3\n",
      "2=>3\n",
      "2=>3\n",
      "2=>3\n",
      "2=>2\n",
      "1=>5\n",
      "6=>4\n",
      "2=>3\n",
      "4=>4\n",
      "4=>2\n",
      "2=>3\n",
      "4=>2\n",
      "2=>3\n",
      "3=>3\n",
      "6=>4\n",
      "1=>5\n",
      "2=>3\n",
      "2=>5\n",
      "2=>3\n",
      "6=>4\n",
      "2=>3\n",
      "2=>3\n",
      "2=>3\n",
      "2=>3\n",
      "1=>4\n",
      "2=>3\n",
      "6=>4\n",
      "6=>6\n",
      "2=>3\n",
      "1=>4\n",
      "2=>3\n",
      "1=>3\n",
      "6=>3\n",
      "2=>3\n",
      "4=>3\n",
      "4=>3\n",
      "2=>4\n",
      "2=>2\n",
      "4=>2\n",
      "1=>3\n",
      "3=>3\n",
      "2=>2\n",
      "5=>5\n",
      "6=>3\n",
      "3=>3\n",
      "1=>2\n",
      "2=>4\n",
      "2=>3\n",
      "6=>3\n",
      "2=>3\n",
      "2=>3\n",
      "6=>4\n",
      "3=>3\n",
      "2=>3\n",
      "4=>2\n",
      "4=>2\n",
      "6=>4\n",
      "1=>4\n",
      "4=>3\n",
      "3=>3\n",
      "4=>2\n",
      "6=>5\n",
      "4=>5\n",
      "4=>2\n",
      "2=>5\n",
      "6=>4\n",
      "1=>4\n",
      "3=>5\n",
      "2=>3\n",
      "3=>4\n",
      "2=>3\n",
      "6=>5\n",
      "2=>3\n",
      "4=>2\n",
      "3=>3\n",
      "1=>2\n",
      "6=>4\n",
      "2=>3\n",
      "1=>3\n",
      "3=>4\n",
      "6=>4\n",
      "2=>3\n",
      "6=>3\n",
      "2=>3\n",
      "3=>2\n",
      "6=>4\n",
      "3=>2\n",
      "1=>2\n",
      "3=>3\n",
      "4=>3\n",
      "4=>4\n",
      "2=>2\n",
      "2=>3\n",
      "6=>3\n",
      "2=>3\n",
      "6=>5\n"
     ]
    }
   ],
   "source": [
    "print(\"TRUE => PREDICTED\")\n",
    "actuals = target_test.tolist()\n",
    "for i in range(len(actuals)):\n",
    "    print(str(actuals[i]) + \"=>\" + str(predictions[i]))"
   ]
  },
  {
   "cell_type": "markdown",
   "metadata": {},
   "source": [
    "### Create a data frame of actual and predicted years and then bin both columns separately using the bins and see if the predictions are placed in the correct bins"
   ]
  },
  {
   "cell_type": "code",
   "execution_count": 24,
   "metadata": {
    "collapsed": true
   },
   "outputs": [],
   "source": [
    "data_test = pd.DataFrame(data = {\"actual\": actuals, \"predicted\": predictions})"
   ]
  },
  {
   "cell_type": "code",
   "execution_count": 25,
   "metadata": {},
   "outputs": [
    {
     "data": {
      "text/html": [
       "<div>\n",
       "<style>\n",
       "    .dataframe thead tr:only-child th {\n",
       "        text-align: right;\n",
       "    }\n",
       "\n",
       "    .dataframe thead th {\n",
       "        text-align: left;\n",
       "    }\n",
       "\n",
       "    .dataframe tbody tr th {\n",
       "        vertical-align: top;\n",
       "    }\n",
       "</style>\n",
       "<table border=\"1\" class=\"dataframe\">\n",
       "  <thead>\n",
       "    <tr style=\"text-align: right;\">\n",
       "      <th></th>\n",
       "      <th>actual</th>\n",
       "      <th>predicted</th>\n",
       "    </tr>\n",
       "  </thead>\n",
       "  <tbody>\n",
       "    <tr>\n",
       "      <th>0</th>\n",
       "      <td>1</td>\n",
       "      <td>3</td>\n",
       "    </tr>\n",
       "    <tr>\n",
       "      <th>1</th>\n",
       "      <td>0</td>\n",
       "      <td>3</td>\n",
       "    </tr>\n",
       "    <tr>\n",
       "      <th>2</th>\n",
       "      <td>3</td>\n",
       "      <td>2</td>\n",
       "    </tr>\n",
       "    <tr>\n",
       "      <th>3</th>\n",
       "      <td>6</td>\n",
       "      <td>4</td>\n",
       "    </tr>\n",
       "    <tr>\n",
       "      <th>4</th>\n",
       "      <td>2</td>\n",
       "      <td>2</td>\n",
       "    </tr>\n",
       "  </tbody>\n",
       "</table>\n",
       "</div>"
      ],
      "text/plain": [
       "   actual  predicted\n",
       "0       1          3\n",
       "1       0          3\n",
       "2       3          2\n",
       "3       6          4\n",
       "4       2          2"
      ]
     },
     "execution_count": 25,
     "metadata": {},
     "output_type": "execute_result"
    }
   ],
   "source": [
    "data_test.head()"
   ]
  },
  {
   "cell_type": "code",
   "execution_count": 26,
   "metadata": {},
   "outputs": [
    {
     "data": {
      "text/plain": [
       "0.18072289156626506"
      ]
     },
     "execution_count": 26,
     "metadata": {},
     "output_type": "execute_result"
    }
   ],
   "source": [
    "# Get the accuracy scores for the bins\n",
    "sklearn.metrics.accuracy_score(data_test[\"actual\"].astype(str).tolist() , data_test[\"predicted\"].astype(str).tolist())"
   ]
  },
  {
   "cell_type": "code",
   "execution_count": null,
   "metadata": {
    "collapsed": true
   },
   "outputs": [],
   "source": []
  }
 ],
 "metadata": {
  "kernelspec": {
   "display_name": "Python [default]",
   "language": "python",
   "name": "python3"
  },
  "language_info": {
   "codemirror_mode": {
    "name": "ipython",
    "version": 3
   },
   "file_extension": ".py",
   "mimetype": "text/x-python",
   "name": "python",
   "nbconvert_exporter": "python",
   "pygments_lexer": "ipython3",
   "version": "3.6.3"
  }
 },
 "nbformat": 4,
 "nbformat_minor": 2
}
